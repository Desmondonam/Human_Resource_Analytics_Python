{
  "nbformat": 4,
  "nbformat_minor": 0,
  "metadata": {
    "colab": {
      "provenance": [],
      "authorship_tag": "ABX9TyPHhHMxxZGYVgnXUPH6PE9e",
      "include_colab_link": true
    },
    "kernelspec": {
      "name": "python3",
      "display_name": "Python 3"
    },
    "language_info": {
      "name": "python"
    }
  },
  "cells": [
    {
      "cell_type": "markdown",
      "metadata": {
        "id": "view-in-github",
        "colab_type": "text"
      },
      "source": [
        "<a href=\"https://colab.research.google.com/github/Desmondonam/Human_Resource_Analytics_Python/blob/main/libraries.ipynb\" target=\"_parent\"><img src=\"https://colab.research.google.com/assets/colab-badge.svg\" alt=\"Open In Colab\"/></a>"
      ]
    },
    {
      "cell_type": "markdown",
      "source": [
        "In this we are going to learn of the libraries: Numpy, Pandas and Matplotlib"
      ],
      "metadata": {
        "id": "P4ly31OvNlNP"
      }
    },
    {
      "cell_type": "markdown",
      "source": [
        "## Python libraries\n",
        "\n",
        "\n",
        "Python libraries are collections of pre-written code and functions that extend the capabilities of the Python programming language. They provide ready-to-use tools, modules, and functions that help you perform various tasks without having to write everything from scratch. Libraries allow you to save time, avoid reinventing the wheel, and leverage the expertise of the broader programming community.\n",
        "\n",
        "For data science, Python libraries play a crucial role in simplifying complex tasks related to data analysis, manipulation, visualization, machine learning, and more. They provide efficient and optimized implementations of algorithms, making it easier for data scientists to work with large datasets and perform advanced analytics.\n",
        "\n",
        "Here's an introduction to some commonly used Python libraries in data science:\n",
        "\n",
        "**NumPy (Numerical Python):** NumPy provides support for large, multi-dimensional arrays and matrices, as well as a collection of mathematical functions to operate on these arrays. It's a fundamental library for numerical computations in Python.\n",
        "\n",
        "**Pandas:** Pandas is a powerful library for data manipulation and analysis. It introduces two key data structures: Series (1D labeled array) and DataFrame (2D labeled table), which allow you to work with structured data effectively.\n",
        "\n",
        "**Matplotlib and Seaborn:** These libraries offer data visualization capabilities. Matplotlib provides a flexible way to create static, interactive, and animated visualizations, while Seaborn builds on top of Matplotlib to provide more aesthetically pleasing visualizations.\n",
        "\n",
        "**SciPy:** SciPy builds on NumPy and provides additional functions for scientific and technical computing. It includes modules for optimization, linear algebra, integration, interpolation, signal processing, and more.\n",
        "\n",
        "**Scikit-Learn:** Scikit-Learn is a machine learning library that provides tools for various machine learning tasks, such as classification, regression, clustering, dimensionality reduction, and more. It offers a consistent API and is widely used for building and evaluating machine learning models.\n",
        "\n",
        "**StatsModels:** StatsModels is a library for estimating and interpreting statistical models. It provides tools for linear and non-linear modeling, time series analysis, and more.\n",
        "\n",
        "**NLTK (Natural Language Toolkit):** NLTK is a library for working with human language data (text). It offers tools for text processing, tokenization, stemming, sentiment analysis, and more.\n",
        "\n",
        "**TensorFlow and PyTorch:** These libraries are popular for deep learning and neural networks. They allow you to create, train, and deploy complex machine learning models.\n",
        "\n",
        "**XGBoost and LightGBM:** These are gradient boosting libraries used for advanced machine learning tasks, especially in structured data problems.\n",
        "\n",
        "### To use a Python library, you typically need to follow these steps:\n",
        "\n",
        "**Installation:** Install the library using a package manager like pip. For example, to install Pandas, you'd use: pip install pandas.\n",
        "\n",
        "**Importing:** Import the library into your Python script or Jupyter Notebook using the import statement. For example, to import Pandas: import pandas as pd.\n",
        "\n",
        "**Usage:** You can then use the functions and classes provided by the library in your code. For example, you can create a DataFrame using Pandas, apply statistical functions from SciPy, or build a machine learning model using Scikit-Learn.\n",
        "\n",
        "Python libraries are an integral part of the data science ecosystem, enabling data scientists to efficiently perform data analysis, exploration, visualization, and modeling tasks."
      ],
      "metadata": {
        "id": "DQUZzJJlfFkU"
      }
    },
    {
      "cell_type": "markdown",
      "source": [
        "## Numpy"
      ],
      "metadata": {
        "id": "LOFCElaEg5cV"
      }
    },
    {
      "cell_type": "markdown",
      "source": [
        "NumPy is a fundamental library for numerical computations in Python, and it provides a powerful array object (numpy.ndarray) along with various mathematical functions to operate on arrays. Here's a step-by-step guide to using NumPy, covering key operations and usage:\n",
        "\n",
        "you can also find more about numpy in the official documentation for numpy [here](https://numpy.org/doc/1.25/user/quickstart.html)"
      ],
      "metadata": {
        "id": "Af13wwH1iSP6"
      }
    },
    {
      "cell_type": "code",
      "execution_count": 2,
      "metadata": {
        "colab": {
          "base_uri": "https://localhost:8080/"
        },
        "id": "sKSpEqIzNhs_",
        "outputId": "194a5f5f-bba7-4610-8395-d6060bd4bc7b"
      },
      "outputs": [
        {
          "output_type": "stream",
          "name": "stdout",
          "text": [
            "Requirement already satisfied: numpy in /usr/local/lib/python3.10/dist-packages (1.23.5)\n"
          ]
        }
      ],
      "source": [
        "## installation\n",
        "!pip install numpy"
      ]
    },
    {
      "cell_type": "code",
      "source": [
        "#Import the ibrary\n",
        "import numpy as np"
      ],
      "metadata": {
        "id": "pRbwtB6yi514"
      },
      "execution_count": 3,
      "outputs": []
    },
    {
      "cell_type": "code",
      "source": [
        "# Creating Arrays\n",
        "# 1D array\n",
        "arr1 = np.array([1, 2, 3, 4, 5])\n",
        "\n",
        "# 2D array (matrix)\n",
        "arr2 = np.array([[1, 2, 3], [4, 5, 6]])\n",
        "\n",
        "# Create an array of zeros\n",
        "zeros_arr = np.zeros((3, 4))\n",
        "\n",
        "# Create an array of ones\n",
        "ones_arr = np.ones((2, 3))\n",
        "\n",
        "# Create a range of values\n",
        "range_arr = np.arange(0, 10, 2)\n",
        "\n",
        "# Create a linearly spaced array\n",
        "linspace_arr = np.linspace(0, 1, 5)"
      ],
      "metadata": {
        "id": "Wn4WBoTxjF-6"
      },
      "execution_count": 4,
      "outputs": []
    },
    {
      "cell_type": "code",
      "source": [
        "# basic operations\n",
        "a = np.array([1, 2, 3])\n",
        "b = np.array([4, 5, 6])\n",
        "\n",
        "# Addition\n",
        "result_add = a + b\n",
        "\n",
        "# Subtraction\n",
        "result_sub = a - b\n",
        "\n",
        "# Multiplication\n",
        "result_mul = a * b\n",
        "\n",
        "# Division\n",
        "result_div = a / b"
      ],
      "metadata": {
        "id": "JrFlF5SCjOB5"
      },
      "execution_count": 6,
      "outputs": []
    },
    {
      "cell_type": "code",
      "source": [
        "# Mathematical Functions\n",
        "arr = np.array([1, 2, 3, 4, 5])\n",
        "\n",
        "# Square root\n",
        "sqrt_arr = np.sqrt(arr)\n",
        "\n",
        "# Exponential\n",
        "exp_arr = np.exp(arr)\n",
        "\n",
        "# Trigonometric functions\n",
        "sin_arr = np.sin(arr)\n",
        "cos_arr = np.cos(arr)"
      ],
      "metadata": {
        "id": "BBqUWKtBjUiA"
      },
      "execution_count": 7,
      "outputs": []
    },
    {
      "cell_type": "code",
      "source": [
        "# Array indexing and slicing\n",
        "arr = np.array([10, 20, 30, 40, 50])\n",
        "\n",
        "# Indexing\n",
        "element = arr[2]  # Get the third element (30)\n",
        "\n",
        "# Slicing\n",
        "sub_arr = arr[1:4]  # Get elements from index 1 to 3 (20, 30, 40)"
      ],
      "metadata": {
        "id": "jf5GN-MVjeJs"
      },
      "execution_count": 8,
      "outputs": []
    },
    {
      "cell_type": "code",
      "source": [
        "# Array Manipulation\n",
        "arr = np.array([[1, 2, 3], [4, 5, 6]])\n",
        "\n",
        "# Reshape\n",
        "reshaped_arr = arr.reshape(3, 2)\n",
        "\n",
        "# Transpose\n",
        "transposed_arr = arr.T\n",
        "\n",
        "# Stack arrays vertically\n",
        "stacked_arr = np.vstack((arr, [[7, 8, 9]]))"
      ],
      "metadata": {
        "id": "SyWIOUmnjorx"
      },
      "execution_count": 9,
      "outputs": []
    },
    {
      "cell_type": "code",
      "source": [],
      "metadata": {
        "id": "UUEsAAhhjuHa"
      },
      "execution_count": null,
      "outputs": []
    }
  ]
}